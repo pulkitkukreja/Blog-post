{
 "cells": [
  {
   "cell_type": "markdown",
   "metadata": {},
   "source": [
    "The application with symbolic mathematics using sympy of python."
   ]
  },
  {
   "cell_type": "code",
   "execution_count": 4,
   "metadata": {},
   "outputs": [],
   "source": [
    "import numpy as np\n",
    "import matplotlib.pyplot as plt\n",
    "import scipy.special as special\n",
    "import mpl_toolkits.mplot3d.axes3d as axes3d\n",
    "import sympy as sym\n",
    "from sympy import *\n",
    "import cmath"
   ]
  },
  {
   "cell_type": "markdown",
   "metadata": {},
   "source": [
    "The necessary modules."
   ]
  },
  {
   "cell_type": "code",
   "execution_count": 5,
   "metadata": {},
   "outputs": [],
   "source": [
    "a = 0.529\n",
    "\n",
    "def sph_harm(l,m):\n",
    "    th = sym.Symbol('theta')\n",
    "    if m>=0:\n",
    "        return ((-1)**m)*np.sqrt(((2*l + 1)*np.math.factorial(l-abs(m)))/(\n",
    "            (4*np.pi)*np.math.factorial(l+abs(m))))*\n",
    "    (-sym.functions.special.polynomials.assoc_legendre(l,m,cos(th)))\n",
    "    elif m<0:\n",
    "        return np.sqrt(((2*l + 1)*np.math.factorial(l-abs(m)))/(\n",
    "            (4*np.pi)*np.math.factorial(l+abs(m))))*\n",
    "    (-sym.functions.special.polynomials.assoc_legendre(l,abs(m),cos(th)))\n"
   ]
  },
  {
   "cell_type": "markdown",
   "metadata": {},
   "source": [
    "The spherical harmonics function without the complex (e^im*phi) because it ultimately cancels during shi^2"
   ]
  },
  {
   "cell_type": "code",
   "execution_count": 6,
   "metadata": {},
   "outputs": [],
   "source": [
    "def radial(n,l):\n",
    "    r = sym.Symbol('r')\n",
    "    return np.sqrt(((2/(n*a))**3)*np.math.factorial(n-l-1)/(\n",
    "        (2*n)*(np.math.factorial(n+l)**3))) *\n",
    "sym.functions.elementary.exponential.exp(-r/(n*a))\n",
    "* ((2*r/(n*a))**l) * \n",
    "sym.functions.special.polynomials.assoc_laguerre(n-l-1,2*l+1,(2*r/(n*a)))      \n"
   ]
  },
  {
   "cell_type": "markdown",
   "metadata": {},
   "source": [
    "The radial function "
   ]
  },
  {
   "cell_type": "code",
   "execution_count": 8,
   "metadata": {},
   "outputs": [],
   "source": [
    "theta = sym.Symbol('theta')\n",
    "\n",
    "n = 3\n",
    "l = 2\n",
    "m = 1\n",
    "\n",
    "def wave_fun(n,l,m):\n",
    "    return simplify(radial(n,l))*simplify(sph_harm(l,m))\n",
    "\n",
    "def prob(n,l,m):\n",
    "    return (simplify(radial(n,l))*simplify(sph_harm(l,m)))**2\n"
   ]
  },
  {
   "cell_type": "markdown",
   "metadata": {},
   "source": [
    "The wavefunction and probabilty"
   ]
  },
  {
   "cell_type": "code",
   "execution_count": null,
   "metadata": {},
   "outputs": [],
   "source": [
    "N = 50\n",
    "r_max = 50\n",
    "th_max = 2*np.pi\n",
    "\n",
    "r_v = np.linspace(0,r_max,N)\n",
    "th = np.linspace(0,th_max,N)\n",
    "\n",
    "theta = sym.Symbol('theta')\n",
    "r = sym.Symbol('r')\n",
    "\n",
    "R,Th = np.meshgrid(r_v,th)\n",
    "X = R*np.cos(Th)\n",
    "Y = R*np.sin(Th)\n",
    "\n",
    "Z = np.zeros([N,N]) \n",
    "\n",
    "expr = prob(n,l,m)\n",
    "for i in range(N):\n",
    "    for j in range(N):\n",
    "        Z[i][j] = expr.subs([ (r,R[i][j]), (theta,Th[i][j]) ])\n",
    "        print(Z[i][j])\n",
    "\n",
    "ax = plt.axes()\n",
    "cp = ax.contour(X, Y, Z)\n",
    "ax.clabel(cp, inline=True,fontsize=10)\n",
    "ax.set_ylim(-2,2)\n",
    "ax.set_ylim(-10,10)\n",
    "ax.set_title(\"n=\"+str(n)+\", l=\"+str(l)+\", m=\"+str(m))\n",
    "ax.set_xlabel('Z')\n",
    "ax.set_ylabel('Y')"
   ]
  }
 ],
 "metadata": {
  "kernelspec": {
   "display_name": "Python 3",
   "language": "python",
   "name": "python3"
  },
  "language_info": {
   "codemirror_mode": {
    "name": "ipython",
    "version": 3
   },
   "file_extension": ".py",
   "mimetype": "text/x-python",
   "name": "python",
   "nbconvert_exporter": "python",
   "pygments_lexer": "ipython3",
   "version": "3.6.5"
  }
 },
 "nbformat": 4,
 "nbformat_minor": 2
}
